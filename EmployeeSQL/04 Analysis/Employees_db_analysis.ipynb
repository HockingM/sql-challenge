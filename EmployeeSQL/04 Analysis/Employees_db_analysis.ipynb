{
 "cells": [
  {
   "cell_type": "code",
   "execution_count": null,
   "metadata": {},
   "outputs": [],
   "source": [
    "# Dependencies and Setup\n",
    "import os\n",
    "import pandas as pd\n",
    "import numpy as np\n",
    "import matplotlib.pyplot as plt\n",
    "\n",
    "# Import SQL Alchemy\n",
    "from sqlalchemy import create_engine\n",
    "\n",
    "# Import URI\n",
    "from config import database\n"
   ]
  },
  {
   "cell_type": "code",
   "execution_count": null,
   "metadata": {},
   "outputs": [],
   "source": [
    "# Create a connection to a Postgresql database\n",
    "engine = create_engine(database)\n",
    "connection = engine.connect()\n"
   ]
  },
  {
   "cell_type": "code",
   "execution_count": null,
   "metadata": {},
   "outputs": [],
   "source": [
    "# Query all records in the Salaries table in the Database\n",
    "salaries_df = pd.read_sql(\"SELECT * FROM salaries\", connection)\n"
   ]
  },
  {
   "cell_type": "code",
   "execution_count": null,
   "metadata": {},
   "outputs": [],
   "source": [
    "# Check for completeness\n",
    "salaries_df.count()\n"
   ]
  },
  {
   "cell_type": "code",
   "execution_count": null,
   "metadata": {},
   "outputs": [],
   "source": [
    "# Preview the data\n",
    "salaries_df.head(5)\n"
   ]
  },
  {
   "cell_type": "code",
   "execution_count": null,
   "metadata": {},
   "outputs": [],
   "source": [
    "# Create a histogram to visualize the most common salary ranges for employees.\n",
    "salary_data = salaries_df['salary']\n",
    "\n",
    "hist = salary_data.hist(bins = 8, alpha = 0.5)\n",
    "plt.title('Distribution of Annual Salaries ($)', fontsize=18)\n",
    "plt.xlabel('Annual Salary ($)', fontsize=12)\n",
    "plt.ylabel('Number of Employees', fontsize=12)\n",
    "plt.tight_layout()\n",
    "plt.show()\n"
   ]
  },
  {
   "cell_type": "code",
   "execution_count": null,
   "metadata": {},
   "outputs": [],
   "source": [
    "# Create combined dataframe for bar chart.\n",
    "\n",
    "# Query all records in the Employees table in the Database\n",
    "employees_df = pd.read_sql(\"SELECT * FROM employees\", connection)\n",
    "\n",
    "# Query all records in the Titles table in the Database\n",
    "titles_df = pd.read_sql(\"SELECT * FROM titles\", connection)\n",
    "\n",
    "# Rename column in Employees dataframe for merge with Titles dataframe\n",
    "employees_df = employees_df.rename({\"emp_titleid\":\"titleid\"}, axis=1) \n",
    "\n",
    "# Merge the columns of Emmployees and Salaries dataframes\n",
    "combined_df = pd.merge(employees_df, salaries_df, on=\"emp_no\", how=\"inner\")\n",
    "\n",
    "full_df = pd.merge(combined_df, titles_df, on=\"titleid\", how=\"inner\")\n"
   ]
  },
  {
   "cell_type": "code",
   "execution_count": null,
   "metadata": {},
   "outputs": [],
   "source": [
    "# Check for completeness\n",
    "full_df.head(5)\n"
   ]
  },
  {
   "cell_type": "code",
   "execution_count": null,
   "metadata": {},
   "outputs": [],
   "source": [
    "# Preview the data\n",
    "full_df.count()\n"
   ]
  },
  {
   "cell_type": "code",
   "execution_count": null,
   "metadata": {},
   "outputs": [],
   "source": [
    "# Create a bar chart of average salary by title.\n",
    "avg_salary = full_df.groupby(\"title\").salary.mean()\n",
    "x_axis = avg_salary.index\n",
    "\n",
    "plt.bar(x_axis, avg_salary, alpha = 0.5)\n",
    "plt.title('Average Salary by Title ($)', fontsize=16)\n",
    "\n",
    "plt.ylabel('Annual Salary ($)', fontsize=12)\n",
    "tick_locations = [value for value in x_axis]\n",
    "plt.xticks(tick_locations, x_axis, rotation = 90)\n",
    "\n",
    "plt.show()\n"
   ]
  }
 ],
 "metadata": {
  "kernelspec": {
   "display_name": "Python [conda env:PythonData] *",
   "language": "python",
   "name": "conda-env-PythonData-py"
  },
  "language_info": {
   "codemirror_mode": {
    "name": "ipython",
    "version": 3
   },
   "file_extension": ".py",
   "mimetype": "text/x-python",
   "name": "python",
   "nbconvert_exporter": "python",
   "pygments_lexer": "ipython3",
   "version": "3.7.6"
  }
 },
 "nbformat": 4,
 "nbformat_minor": 4
}
